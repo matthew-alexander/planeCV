{
 "cells": [
  {
   "cell_type": "markdown",
   "metadata": {},
   "source": [
    "# Plane CV \n",
    "\n",
    "The goal here is to try to establish flying speed from camera images. \n",
    "\n",
    "The grand idea is to: \n",
    "- identify plane\n",
    "- determine its specs (wingspan etc) \n",
    "- measure the increase in wingspan over time\n",
    "- calculate and display speed on the video\n",
    "\n",
    "![early notes](img/planeCV.jpg)\n"
   ]
  },
  {
   "cell_type": "code",
   "execution_count": null,
   "metadata": {
    "collapsed": true
   },
   "outputs": [],
   "source": []
  }
 ],
 "metadata": {
  "anaconda-cloud": {},
  "kernelspec": {
   "display_name": "Python [conda root]",
   "language": "python",
   "name": "conda-root-py"
  },
  "language_info": {
   "codemirror_mode": {
    "name": "ipython",
    "version": 3
   },
   "file_extension": ".py",
   "mimetype": "text/x-python",
   "name": "python",
   "nbconvert_exporter": "python",
   "pygments_lexer": "ipython3",
   "version": "3.5.2"
  }
 },
 "nbformat": 4,
 "nbformat_minor": 1
}
